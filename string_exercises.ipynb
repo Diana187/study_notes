{
 "cells": [
  {
   "cell_type": "markdown",
   "metadata": {},
   "source": [
    "1. Write a program to create a new string made of an input string’s first, middle, and last character.\n",
    "\n",
    "Given:\n",
    "str1 = \"James\"\n",
    "\n",
    "Expected Output:\n",
    "Jms"
   ]
  },
  {
   "cell_type": "code",
   "execution_count": 3,
   "metadata": {},
   "outputs": [
    {
     "name": "stdout",
     "output_type": "stream",
     "text": [
      "Новая строка: пмр\n"
     ]
    }
   ],
   "source": [
    "#1\n",
    "\n",
    "def create_new_string(string):\n",
    "    first_char = string[0]\n",
    "    # берет правый элемент\n",
    "    middle_char = string[len(string) // 2]\n",
    "    # middle_char = len(string) // 2\n",
    "    last_char = string[-1]\n",
    "\n",
    "    new_string = first_char + middle_char + last_char\n",
    "    return new_string\n",
    "\n",
    "input_str = 'пример'\n",
    "result = create_new_string(input_str)\n",
    "print(f'Новая строка: {result}')\n"
   ]
  },
  {
   "cell_type": "markdown",
   "metadata": {},
   "source": [
    "2. Write a program to create a new string made of the middle three characters of an input string.\n",
    "\n",
    "Given:\n",
    "\n",
    "Case 1\n",
    "\n",
    "str1 = \"JhonDipPeta\"\n",
    "Output\n",
    "Dip\n",
    "\n",
    "Case 2\n",
    "\n",
    "str2 = \"JaSonAy\"\n",
    "Output\n",
    "Son"
   ]
  },
  {
   "cell_type": "code",
   "execution_count": 8,
   "metadata": {},
   "outputs": [
    {
     "name": "stdout",
     "output_type": "stream",
     "text": [
      "Новая строка: 111\n"
     ]
    }
   ],
   "source": [
    "# 2\n",
    "\n",
    "def get_middle_three_chars(string):\n",
    "    middle_char = len(string) // 2\n",
    "    new_string = string[middle_char - 1:middle_char + 2]\n",
    "    return new_string\n",
    "    \n",
    "input_str = 'щщщ111щщщ'\n",
    "input_str_1 = 'щщщ1110щщщ'\n",
    "result = get_middle_three_chars(input_str)\n",
    "print(f'Новая строка: {result}')"
   ]
  },
  {
   "cell_type": "markdown",
   "metadata": {},
   "source": [
    "Exercise 2: Append new string in the middle of a given string\n",
    "Given two strings, s1 and s2. Write a program to create a new string s3 by appending s2 in the middle of s1.\n",
    "\n",
    "Given:\n",
    "\n",
    "s1 = \"Ault\"\n",
    "s2 = \"Kelly\"\n",
    "Expected Output:\n",
    "\n",
    "AuKellylt"
   ]
  },
  {
   "cell_type": "code",
   "execution_count": 9,
   "metadata": {},
   "outputs": [
    {
     "name": "stdout",
     "output_type": "stream",
     "text": [
      "AuKellylt\n"
     ]
    }
   ],
   "source": [
    "def append_middle(s1, s2):\n",
    "    middle = int(len(s1) / 2)\n",
    "    string = s1[:middle:]\n",
    "    string = string + s2\n",
    "    result_string = string + s1[middle:]\n",
    "    print(result_string)\n",
    "\n",
    "append_middle('Ault', 'Kelly')"
   ]
  },
  {
   "cell_type": "code",
   "execution_count": null,
   "metadata": {},
   "outputs": [],
   "source": []
  }
 ],
 "metadata": {
  "kernelspec": {
   "display_name": "Python 3",
   "language": "python",
   "name": "python3"
  },
  "language_info": {
   "codemirror_mode": {
    "name": "ipython",
    "version": 3
   },
   "file_extension": ".py",
   "mimetype": "text/x-python",
   "name": "python",
   "nbconvert_exporter": "python",
   "pygments_lexer": "ipython3",
   "version": "3.11.6"
  }
 },
 "nbformat": 4,
 "nbformat_minor": 2
}
