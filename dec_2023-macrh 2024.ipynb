{
 "cells": [
  {
   "cell_type": "code",
   "execution_count": 1,
   "metadata": {},
   "outputs": [],
   "source": [
    "def foo(suchlist=None):\n",
    "    if not suchlist:\n",
    "        suchlist = []\n",
    "\n",
    "# что происходит, когда я говорю def foo(suchlist=[]) придумать тесткейсы: что моя функция может делать со списком;\n",
    "# если нет, то посмотри примеры в интернетах"
   ]
  },
  {
   "cell_type": "code",
   "execution_count": 2,
   "metadata": {},
   "outputs": [],
   "source": [
    "def foo(suchlist=[]):\n",
    "    print(suchlist)"
   ]
  },
  {
   "cell_type": "code",
   "execution_count": 3,
   "metadata": {},
   "outputs": [
    {
     "name": "stdout",
     "output_type": "stream",
     "text": [
      "[]\n"
     ]
    }
   ],
   "source": [
    "foo()"
   ]
  },
  {
   "cell_type": "code",
   "execution_count": 4,
   "metadata": {},
   "outputs": [],
   "source": [
    "def foo(suchlist=[]):\n",
    "    suchlist.append(1)\n",
    "    print(suchlist)"
   ]
  },
  {
   "cell_type": "code",
   "execution_count": 5,
   "metadata": {},
   "outputs": [
    {
     "name": "stdout",
     "output_type": "stream",
     "text": [
      "[1]\n"
     ]
    }
   ],
   "source": [
    "foo()"
   ]
  },
  {
   "cell_type": "code",
   "execution_count": 7,
   "metadata": {},
   "outputs": [
    {
     "name": "stdout",
     "output_type": "stream",
     "text": [
      "[1, 1, 1]\n"
     ]
    }
   ],
   "source": [
    "foo()"
   ]
  },
  {
   "cell_type": "code",
   "execution_count": 8,
   "metadata": {},
   "outputs": [],
   "source": [
    "def append_value(value, suchlist=[]):\n",
    "    suchlist.append(value)\n",
    "    return suchlist"
   ]
  },
  {
   "cell_type": "code",
   "execution_count": 10,
   "metadata": {},
   "outputs": [
    {
     "name": "stdout",
     "output_type": "stream",
     "text": [
      "[1, 1]\n"
     ]
    }
   ],
   "source": [
    "result1 = append_value(1)\n",
    "print(result1)"
   ]
  },
  {
   "cell_type": "code",
   "execution_count": 11,
   "metadata": {},
   "outputs": [
    {
     "name": "stdout",
     "output_type": "stream",
     "text": [
      "[1, 1, 2]\n"
     ]
    }
   ],
   "source": [
    "result2 = append_value(2)\n",
    "print(result2)"
   ]
  },
  {
   "cell_type": "code",
   "execution_count": 13,
   "metadata": {},
   "outputs": [
    {
     "name": "stdout",
     "output_type": "stream",
     "text": [
      "1\n"
     ]
    }
   ],
   "source": [
    "def foo(suchlist=False):\n",
    "    print(suchlist)\n",
    "    if not suchlist:\n",
    "        suchlist = []\n",
    "        suchlist.append(1)\n",
    "        print(suchlist)\n",
    "\n",
    "foo('1')\n",
    "    "
   ]
  },
  {
   "cell_type": "code",
   "execution_count": 16,
   "metadata": {},
   "outputs": [
    {
     "name": "stdout",
     "output_type": "stream",
     "text": [
      "1\n"
     ]
    }
   ],
   "source": [
    "foo('1')"
   ]
  },
  {
   "cell_type": "markdown",
   "metadata": {},
   "source": [
    "Decorators: 1. Write a decorator that measures and prints execution time of the decorated function"
   ]
  },
  {
   "cell_type": "code",
   "execution_count": 26,
   "metadata": {},
   "outputs": [
    {
     "name": "stdout",
     "output_type": "stream",
     "text": [
      "Время выполнения функции: 5.602836608886719e-05\n",
      "gnitset ma I\n"
     ]
    }
   ],
   "source": [
    "import time\n",
    "# from functools import wraps\n",
    "\n",
    "def time_measurement(func):\n",
    "    # @wraps\n",
    "    def wrapper(*args, **kwargs):\n",
    "        start_time = time.time()\n",
    "        result = func(*args, **kwargs)\n",
    "        end_time = time.time()\n",
    "        calculation_time = end_time - start_time\n",
    "        print(f'Время выполнения функции: {calculation_time}')\n",
    "        return result\n",
    "    return wrapper\n",
    "\n",
    "@time_measurement\n",
    "def reverse_func(string):\n",
    "    result = string[::-1]\n",
    "    return result\n",
    "\n",
    "input = 'I am testing'\n",
    "reversed_string = reverse_func(input)\n",
    "print(reversed_string)"
   ]
  },
  {
   "cell_type": "markdown",
   "metadata": {},
   "source": [
    "Decorators:\n",
    "2 - you are given a function:\n",
    "\n",
    "def greeter(name):\n",
    "print (f\"Hello {name}\")\n",
    "\n",
    "Write a decorator that takes number of runs as an argument and runs the decorated function for the specified number of times.\n",
    "\n",
    "декоратор с параметрами (1 функция и 2 обертки)"
   ]
  },
  {
   "cell_type": "code",
   "execution_count": 4,
   "metadata": {},
   "outputs": [
    {
     "name": "stdout",
     "output_type": "stream",
     "text": [
      "Hello Вася\n",
      "Hello Вася\n",
      "Hello Вася\n",
      "Hello Вася\n",
      "Hello Вася\n"
     ]
    }
   ],
   "source": [
    "\n",
    "def repeat_decorator(repeats):\n",
    "    def decorator_2(func):\n",
    "        def wrapper(*args, **kwargs):\n",
    "            for _ in range(repeats):\n",
    "                func(*args, **kwargs)\n",
    "        return wrapper\n",
    "    return decorator_2\n",
    "\n",
    "@repeat_decorator(5)\n",
    "def greeter(name):\n",
    "    print(f'Hello {name}')\n",
    "\n",
    "greeter('Вася')\n"
   ]
  },
  {
   "cell_type": "code",
   "execution_count": 1,
   "metadata": {},
   "outputs": [],
   "source": [
    "# посмотреть фанктулзы"
   ]
  },
  {
   "cell_type": "markdown",
   "metadata": {},
   "source": [
    "есть глобальная переменная.\n",
    "1 функция использует глобал.\n",
    "2 функция перезаписывает,\n",
    "3 снова использует глобал, какое там будет значение (написать в ноутбуке)"
   ]
  },
  {
   "cell_type": "code",
   "execution_count": 4,
   "metadata": {},
   "outputs": [
    {
     "name": "stdout",
     "output_type": "stream",
     "text": [
      "Hello world\n",
      "Привет, мир\n",
      "Hello world\n"
     ]
    }
   ],
   "source": [
    "GREETING = 'Hello world'\n",
    "\n",
    "def foo():\n",
    "    print(GREETING)\n",
    "\n",
    "def bar():\n",
    "    global GREETING\n",
    "    GREETING = 'Привет, мир'\n",
    "    print(GREETING)\n",
    "\n",
    "def baz():\n",
    "    print(GREETING)\n",
    "\n",
    "\n",
    "foo()\n",
    "bar()\n",
    "baz()"
   ]
  }
 ],
 "metadata": {
  "kernelspec": {
   "display_name": "Python 3",
   "language": "python",
   "name": "python3"
  },
  "language_info": {
   "codemirror_mode": {
    "name": "ipython",
    "version": 3
   },
   "file_extension": ".py",
   "mimetype": "text/x-python",
   "name": "python",
   "nbconvert_exporter": "python",
   "pygments_lexer": "ipython3",
   "version": "3.11.6"
  }
 },
 "nbformat": 4,
 "nbformat_minor": 2
}
