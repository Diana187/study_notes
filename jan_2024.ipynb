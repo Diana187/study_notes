{
 "cells": [
  {
   "cell_type": "markdown",
   "metadata": {},
   "source": [
    "write a generator that takes 3 arguments - 'foo', 'bar', and 'buzz'\n",
    "\n",
    "It yields one value (any value), then raises stopiteration"
   ]
  },
  {
   "cell_type": "code",
   "execution_count": 2,
   "metadata": {},
   "outputs": [
    {
     "name": "stdout",
     "output_type": "stream",
     "text": [
      "Сейчас отдам число\n",
      "1\n"
     ]
    }
   ],
   "source": [
    "def new_year_generator(foo, bar, buzz):\n",
    "    print('Сейчас отдам число') \n",
    "    yield 1\n",
    "\n",
    "gen = new_year_generator('foo', 'bar', 'buzz')\n",
    "\n",
    "print(next(gen))"
   ]
  },
  {
   "cell_type": "code",
   "execution_count": 3,
   "metadata": {},
   "outputs": [
    {
     "name": "stdout",
     "output_type": "stream",
     "text": [
      "Value generated with foo=Happy, bar=New, buzz=Year. Happy New Year!\n"
     ]
    }
   ],
   "source": [
    "def new_year_generator_1(foo, bar, buzz):\n",
    "    result = f'Value generated with foo={foo}, bar={bar}, buzz={buzz}. {foo} {bar} {buzz}!'\n",
    "    yield result\n",
    "\n",
    "gen_1 = new_year_generator_1('Happy', 'New', 'Year')\n",
    "\n",
    "print(next(gen_1))"
   ]
  },
  {
   "cell_type": "markdown",
   "metadata": {},
   "source": [
    "write an infinite generator that takes one argument, then yields its value infinite number of times."
   ]
  },
  {
   "cell_type": "code",
   "execution_count": 9,
   "metadata": {},
   "outputs": [
    {
     "name": "stdout",
     "output_type": "stream",
     "text": [
      "foo\n",
      "foo\n",
      "foo\n",
      "foo\n",
      "foo\n",
      "foo\n",
      "foo\n",
      "foo\n",
      "foo\n",
      "foo\n"
     ]
    }
   ],
   "source": [
    "def infinite_generator(foo):\n",
    "    while True:\n",
    "        yield foo\n",
    "\n",
    "gen = infinite_generator('foo')\n",
    "\n",
    "for _ in range(10):\n",
    "    print(next(gen))"
   ]
  },
  {
   "cell_type": "code",
   "execution_count": 22,
   "metadata": {},
   "outputs": [
    {
     "data": {
      "text/plain": [
       "'Happy'"
      ]
     },
     "execution_count": 22,
     "metadata": {},
     "output_type": "execute_result"
    }
   ],
   "source": [
    "from itertools import cycle\n",
    "\n",
    "mc = cycle(['Happy', 'New', 'Year!'])\n",
    "\n",
    "next(mc)"
   ]
  },
  {
   "cell_type": "markdown",
   "metadata": {},
   "source": [
    "генератор, который не принимает на вход никаких аргументов,\n",
    "перебирает список, но зацикливается на последнем значении списка, почему не на первом?"
   ]
  },
  {
   "cell_type": "code",
   "execution_count": 51,
   "metadata": {},
   "outputs": [
    {
     "name": "stdout",
     "output_type": "stream",
     "text": [
      "1\n",
      "2\n",
      "3\n",
      "3\n",
      "3\n",
      "3\n",
      "3\n",
      "3\n",
      "3\n",
      "3\n",
      "3\n",
      "3\n",
      "3\n"
     ]
    }
   ],
   "source": [
    "def infinite_generator():\n",
    "    my_list = ['1', '2', '3']\n",
    "\n",
    "    for word in my_list:\n",
    "        print(word)\n",
    "    while True:\n",
    "        yield word\n",
    "    \n",
    "gen = infinite_generator()\n",
    "\n",
    "for _ in range(10):\n",
    "    print(next(gen))"
   ]
  },
  {
   "cell_type": "markdown",
   "metadata": {},
   "source": [
    "генератор, который принимает на вход 3 аргумента, делает из них список, бесконечно перебирает значения (числа),\n",
    "которые можно задать ему в параметрах"
   ]
  },
  {
   "cell_type": "code",
   "execution_count": 48,
   "metadata": {},
   "outputs": [
    {
     "name": "stdout",
     "output_type": "stream",
     "text": [
      "1\n",
      "2\n",
      "3\n",
      "1\n",
      "2\n",
      "3\n",
      "1\n",
      "2\n",
      "3\n",
      "1\n"
     ]
    }
   ],
   "source": [
    "def infinite_generator(foo, bar, buzz):\n",
    "    my_list = [foo, bar, buzz]\n",
    "    while True:\n",
    "        for word in my_list:\n",
    "            yield word\n",
    "    \n",
    "gen = infinite_generator(1, 2, 3)\n",
    "\n",
    "for _ in range(10):\n",
    "    print(next(gen))"
   ]
  },
  {
   "cell_type": "markdown",
   "metadata": {},
   "source": [
    "генератор, который не принимает аргументов,\n",
    "бесконечно перебирает 3 значения (строки) заданных в списке внутри функции"
   ]
  },
  {
   "cell_type": "code",
   "execution_count": 52,
   "metadata": {},
   "outputs": [
    {
     "name": "stdout",
     "output_type": "stream",
     "text": [
      "1\n",
      "2\n",
      "3\n",
      "1\n",
      "2\n",
      "3\n",
      "1\n",
      "2\n",
      "3\n",
      "1\n"
     ]
    }
   ],
   "source": [
    "def infinite_generator():\n",
    "    my_list = ['1', '2', '3']\n",
    "    while True:\n",
    "        for word in my_list:\n",
    "                yield word\n",
    "\n",
    "gen = infinite_generator()\n",
    "\n",
    "for _ in range(10):\n",
    "    print(next(gen))"
   ]
  },
  {
   "cell_type": "code",
   "execution_count": null,
   "metadata": {},
   "outputs": [],
   "source": []
  }
 ],
 "metadata": {
  "kernelspec": {
   "display_name": "Python 3",
   "language": "python",
   "name": "python3"
  },
  "language_info": {
   "codemirror_mode": {
    "name": "ipython",
    "version": 3
   },
   "file_extension": ".py",
   "mimetype": "text/x-python",
   "name": "python",
   "nbconvert_exporter": "python",
   "pygments_lexer": "ipython3",
   "version": "3.11.6"
  }
 },
 "nbformat": 4,
 "nbformat_minor": 2
}
