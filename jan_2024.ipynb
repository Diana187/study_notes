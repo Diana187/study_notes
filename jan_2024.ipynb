{
 "cells": [
  {
   "cell_type": "markdown",
   "metadata": {},
   "source": [
    "write a generator that takes 3 arguments - 'foo', 'bar', and 'buzz'\n",
    "\n",
    "It yields one value (any value), then raises stopiteration"
   ]
  },
  {
   "cell_type": "code",
   "execution_count": 2,
   "metadata": {},
   "outputs": [
    {
     "name": "stdout",
     "output_type": "stream",
     "text": [
      "Сейчас отдам число\n",
      "1\n"
     ]
    }
   ],
   "source": [
    "def new_year_generator(foo, bar, buzz):\n",
    "    print('Сейчас отдам число') \n",
    "    yield 1\n",
    "\n",
    "gen = new_year_generator('foo', 'bar', 'buzz')\n",
    "\n",
    "print(next(gen))"
   ]
  },
  {
   "cell_type": "code",
   "execution_count": 3,
   "metadata": {},
   "outputs": [
    {
     "name": "stdout",
     "output_type": "stream",
     "text": [
      "Value generated with foo=Happy, bar=New, buzz=Year. Happy New Year!\n"
     ]
    }
   ],
   "source": [
    "def new_year_generator_1(foo, bar, buzz):\n",
    "    result = f'Value generated with foo={foo}, bar={bar}, buzz={buzz}. {foo} {bar} {buzz}!'\n",
    "    yield result\n",
    "\n",
    "gen_1 = new_year_generator_1('Happy', 'New', 'Year')\n",
    "\n",
    "print(next(gen_1))"
   ]
  },
  {
   "cell_type": "markdown",
   "metadata": {},
   "source": [
    "write an infinite generator that takes one argument, then yields its value infinite number of times."
   ]
  },
  {
   "cell_type": "code",
   "execution_count": 9,
   "metadata": {},
   "outputs": [
    {
     "name": "stdout",
     "output_type": "stream",
     "text": [
      "foo\n",
      "foo\n",
      "foo\n",
      "foo\n",
      "foo\n",
      "foo\n",
      "foo\n",
      "foo\n",
      "foo\n",
      "foo\n"
     ]
    }
   ],
   "source": [
    "def infinite_generator(foo):\n",
    "    while True:\n",
    "        yield foo\n",
    "\n",
    "gen = infinite_generator('foo')\n",
    "\n",
    "for _ in range(10):\n",
    "    print(next(gen))"
   ]
  },
  {
   "cell_type": "code",
   "execution_count": 86,
   "metadata": {},
   "outputs": [
    {
     "name": "stdout",
     "output_type": "stream",
     "text": [
      "Happy\n",
      "4587977600\n"
     ]
    }
   ],
   "source": [
    "from itertools import cycle\n",
    "\n",
    "mc = cycle(['Happy', 'New', 'Year!'])\n",
    "\n",
    "print(next(mc))\n",
    "\n",
    "print(id(mc))"
   ]
  },
  {
   "cell_type": "code",
   "execution_count": 87,
   "metadata": {},
   "outputs": [
    {
     "name": "stdout",
     "output_type": "stream",
     "text": [
      "New\n",
      "4587977600\n"
     ]
    }
   ],
   "source": [
    "print(next(mc))\n",
    "\n",
    "print(id(mc))"
   ]
  },
  {
   "cell_type": "markdown",
   "metadata": {},
   "source": [
    "генератор, который не принимает на вход никаких аргументов,\n",
    "перебирает список, но зацикливается на последнем значении списка, почему не на первом?\n",
    "\n",
    "генераторы ленивые\n",
    "сначала принтится лист 1, 2, 3\n",
    "генератор начинает работать после принта, с последним значением word - 3.\n",
    "и поэтому он бусконечно выдаёт тройку"
   ]
  },
  {
   "cell_type": "code",
   "execution_count": 1,
   "metadata": {},
   "outputs": [
    {
     "name": "stdout",
     "output_type": "stream",
     "text": [
      "1\n",
      "2\n",
      "3\n",
      "3\n"
     ]
    }
   ],
   "source": [
    "def infinite_generator():\n",
    "    my_list = ['1', '2', '3']\n",
    "\n",
    "    for word in my_list:\n",
    "        print(word)\n",
    "    while True:\n",
    "        yield word\n",
    "    \n",
    "gen = infinite_generator()\n",
    "\n",
    "print(next(gen))\n",
    "\n",
    "# for _ in range(5):\n",
    "#     print(next(gen))"
   ]
  },
  {
   "cell_type": "markdown",
   "metadata": {},
   "source": [
    "генератор, который принимает на вход 3 аргумента, делает из них список, бесконечно перебирает значения (числа),\n",
    "которые можно задать ему в параметрах"
   ]
  },
  {
   "cell_type": "code",
   "execution_count": 8,
   "metadata": {},
   "outputs": [
    {
     "name": "stdout",
     "output_type": "stream",
     "text": [
      "1\n",
      "2\n",
      "3\n",
      "1\n",
      "2\n",
      "3\n",
      "1\n",
      "2\n",
      "3\n",
      "1\n"
     ]
    }
   ],
   "source": [
    "def infinite_generator(foo, bar, buzz):\n",
    "    my_list = [foo, bar, buzz]\n",
    "    while True:\n",
    "        for word in my_list:\n",
    "            yield word\n",
    "    \n",
    "gen = infinite_generator(*['1', '2', '3'])\n",
    "\n",
    "for _ in range(10):\n",
    "    print(next(gen))"
   ]
  },
  {
   "cell_type": "markdown",
   "metadata": {},
   "source": [
    "генератор, который не принимает аргументов,\n",
    "бесконечно перебирает 3 значения (строки) заданных в списке внутри функции"
   ]
  },
  {
   "cell_type": "code",
   "execution_count": 9,
   "metadata": {},
   "outputs": [
    {
     "name": "stdout",
     "output_type": "stream",
     "text": [
      "1\n",
      "2\n",
      "3\n",
      "1\n",
      "2\n",
      "3\n",
      "1\n",
      "2\n",
      "3\n",
      "1\n"
     ]
    }
   ],
   "source": [
    "def infinite_generator():\n",
    "    my_list = ['1', '2', '3']\n",
    "    while True:\n",
    "        for word in my_list:\n",
    "                yield word\n",
    "\n",
    "gen = infinite_generator()\n",
    "\n",
    "for _ in range(10):\n",
    "    print(next(gen))"
   ]
  },
  {
   "cell_type": "code",
   "execution_count": 23,
   "metadata": {},
   "outputs": [
    {
     "name": "stdout",
     "output_type": "stream",
     "text": [
      "1\n",
      "300\n",
      "200\n",
      "100\n",
      "1\n",
      "300\n",
      "200\n",
      "100\n",
      "1\n",
      "300\n"
     ]
    }
   ],
   "source": [
    "def infinite_generator(puk, foo=1, bar=2, buzz=4):\n",
    "    my_list = [puk, foo, bar, buzz]\n",
    "    while True:\n",
    "        for word in my_list:\n",
    "            yield word\n",
    "\n",
    "gen_dict = {\n",
    "    'buzz': 100,\n",
    "    'bar': 200,\n",
    "    'foo': 300,\n",
    "}\n",
    "    \n",
    "gen = infinite_generator(1, **gen_dict)\n",
    "\n",
    "for _ in range(10):\n",
    "    print(next(gen))"
   ]
  },
  {
   "cell_type": "code",
   "execution_count": 41,
   "metadata": {},
   "outputs": [
    {
     "name": "stdout",
     "output_type": "stream",
     "text": [
      "(1, 2, 3)\n",
      "5\n",
      "6\n",
      "7\n",
      "(1, 2, 3)\n",
      "5\n",
      "6\n",
      "7\n",
      "(1, 2, 3)\n",
      "5\n"
     ]
    }
   ],
   "source": [
    "def infinite_generator(puk, foo=1, bar=2, buzz=4, *args, **kwargs):\n",
    "    my_list = [puk, foo, bar, buzz]\n",
    "    while True:\n",
    "        for word in my_list:\n",
    "            yield word\n",
    "\n",
    "gen_dict = {\n",
    "    'buzz': 100,\n",
    "    'bar': 200,\n",
    "    'foo': 300,\n",
    "}\n",
    "\n",
    "something = (1, 2, 3)\n",
    "    \n",
    "gen = infinite_generator(something, 5, 6, 7, gen_dict)\n",
    "\n",
    "for _ in range(10):\n",
    "    print(next(gen))"
   ]
  },
  {
   "cell_type": "code",
   "execution_count": 42,
   "metadata": {},
   "outputs": [
    {
     "name": "stdout",
     "output_type": "stream",
     "text": [
      "((1, 2, 3), {'buzz': 100, 'bar': 200, 'foo': 300})\n",
      "dict_values([])\n",
      "((1, 2, 3), {'buzz': 100, 'bar': 200, 'foo': 300})\n",
      "dict_values([])\n",
      "((1, 2, 3), {'buzz': 100, 'bar': 200, 'foo': 300})\n",
      "dict_values([])\n",
      "((1, 2, 3), {'buzz': 100, 'bar': 200, 'foo': 300})\n",
      "dict_values([])\n",
      "((1, 2, 3), {'buzz': 100, 'bar': 200, 'foo': 300})\n",
      "dict_values([])\n"
     ]
    }
   ],
   "source": [
    "def infinite_generator(*args, **kwargs):\n",
    "    my_list = [args, kwargs.values()]\n",
    "    while True:\n",
    "        for word in my_list:\n",
    "            yield word\n",
    "\n",
    "gen_dict = {\n",
    "    'buzz': 100,\n",
    "    'bar': 200,\n",
    "    'foo': 300,\n",
    "}\n",
    "\n",
    "something = (1, 2, 3)\n",
    "    \n",
    "gen = infinite_generator(something, gen_dict)\n",
    "\n",
    "for _ in range(10):\n",
    "    print(next(gen))"
   ]
  }
 ],
 "metadata": {
  "kernelspec": {
   "display_name": "Python 3",
   "language": "python",
   "name": "python3"
  },
  "language_info": {
   "codemirror_mode": {
    "name": "ipython",
    "version": 3
   },
   "file_extension": ".py",
   "mimetype": "text/x-python",
   "name": "python",
   "nbconvert_exporter": "python",
   "pygments_lexer": "ipython3",
   "version": "3.11.6"
  }
 },
 "nbformat": 4,
 "nbformat_minor": 2
}
