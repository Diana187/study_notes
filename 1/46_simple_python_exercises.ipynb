{
 "cells": [
  {
   "cell_type": "markdown",
   "metadata": {},
   "source": []
  },
  {
   "cell_type": "markdown",
   "metadata": {},
   "source": [
    "1. Define a function max() that takes two numbers as arguments and returns the largest of them. Use the if-then-else construct available in Python. (It is true that Python has the max() function built in, but writing it yourself is nevertheless a good exercise.)"
   ]
  },
  {
   "cell_type": "code",
   "execution_count": 6,
   "metadata": {},
   "outputs": [
    {
     "name": "stdout",
     "output_type": "stream",
     "text": [
      "3\n"
     ]
    }
   ],
   "source": [
    "#1\n",
    "def find_max(first_n, second_n):\n",
    "    '''A function that given two numbers returns the largest of them.'''\n",
    "    return max(first_n, second_n)\n",
    "\n",
    "result = find_max(1, 3)\n",
    "print(result)"
   ]
  },
  {
   "cell_type": "code",
   "execution_count": 4,
   "metadata": {},
   "outputs": [
    {
     "name": "stdout",
     "output_type": "stream",
     "text": [
      "3\n"
     ]
    }
   ],
   "source": [
    "#1\n",
    "def find_max(first_n, second_n):\n",
    "    '''A function that given two numbers returns the largest of them.'''\n",
    "    result = max(first_n, second_n)\n",
    "    return result\n",
    "\n",
    "maximum = find_max(1, 3)\n",
    "print(maximum)"
   ]
  },
  {
   "cell_type": "code",
   "execution_count": 6,
   "metadata": {},
   "outputs": [
    {
     "name": "stdout",
     "output_type": "stream",
     "text": [
      "3\n"
     ]
    }
   ],
   "source": [
    "#1\n",
    "def find_max(first_n, second_n):\n",
    "    '''A function that given two numbers returns the largest of them.'''\n",
    "    if first_n >= second_n:\n",
    "        return first_n\n",
    "    else:\n",
    "        return second_n\n",
    "\n",
    "result = find_max(1, 3)\n",
    "print(result)"
   ]
  },
  {
   "cell_type": "code",
   "execution_count": 2,
   "metadata": {},
   "outputs": [
    {
     "name": "stdout",
     "output_type": "stream",
     "text": [
      "3\n"
     ]
    }
   ],
   "source": [
    "#1\n",
    "def find_max(first_n, second_n):\n",
    "    '''A function that given two numbers returns the largest of them.'''\n",
    "    return first_n if first_n >= second_n else second_n\n",
    "\n",
    "result = find_max(1, 3)\n",
    "print(result)"
   ]
  },
  {
   "cell_type": "markdown",
   "metadata": {},
   "source": [
    "2. Define a function max_of_three() that takes three numbers as arguments and returns the largest of them."
   ]
  },
  {
   "cell_type": "code",
   "execution_count": 6,
   "metadata": {},
   "outputs": [
    {
     "name": "stdout",
     "output_type": "stream",
     "text": [
      "The largest number is 3\n"
     ]
    }
   ],
   "source": [
    "def max_of_three(first_n, second_n, third_n):\n",
    "    if first_n >= second_n:\n",
    "        if first_n >= third_n:\n",
    "            return first_n\n",
    "        else:\n",
    "            return third_n\n",
    "    else:\n",
    "        if second_n >= third_n:\n",
    "            return second_n\n",
    "        else:\n",
    "            return third_n\n",
    "\n",
    "result = max_of_three(1, 2, 3)\n",
    "print('The largest number is', result)"
   ]
  },
  {
   "cell_type": "code",
   "execution_count": 5,
   "metadata": {},
   "outputs": [
    {
     "name": "stdout",
     "output_type": "stream",
     "text": [
      "The largest number is 3\n"
     ]
    }
   ],
   "source": [
    "#2\n",
    "def max_of_three(first_n, second_n, third_n):\n",
    "    if first_n >= second_n and first_n >= third_n:\n",
    "        return first_n\n",
    "    elif second_n >= first_n and second_n >= third_n:\n",
    "        return second_n\n",
    "    else:\n",
    "        return third_n\n",
    "\n",
    "result = max_of_three(1, 2, 3)\n",
    "print('The largest number is', result)"
   ]
  }
 ],
 "metadata": {
  "kernelspec": {
   "display_name": "Python 3",
   "language": "python",
   "name": "python3"
  },
  "language_info": {
   "codemirror_mode": {
    "name": "ipython",
    "version": 3
   },
   "file_extension": ".py",
   "mimetype": "text/x-python",
   "name": "python",
   "nbconvert_exporter": "python",
   "pygments_lexer": "ipython3",
   "version": "3.11.6"
  }
 },
 "nbformat": 4,
 "nbformat_minor": 2
}
