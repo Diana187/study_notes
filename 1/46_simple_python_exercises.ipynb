{
 "cells": [
  {
   "cell_type": "markdown",
   "metadata": {},
   "source": []
  },
  {
   "cell_type": "markdown",
   "metadata": {},
   "source": [
    "1. Define a function max() that takes two numbers as arguments and returns the largest of them. Use the if-then-else construct available in Python. (It is true that Python has the max() function built in, but writing it yourself is nevertheless a good exercise.)"
   ]
  },
  {
   "cell_type": "code",
   "execution_count": 6,
   "metadata": {},
   "outputs": [
    {
     "name": "stdout",
     "output_type": "stream",
     "text": [
      "3\n"
     ]
    }
   ],
   "source": [
    "#1\n",
    "def find_max(first_n, second_n):\n",
    "    '''A function that given two numbers returns the largest of them.'''\n",
    "    return max(first_n, second_n)\n",
    "\n",
    "result = find_max(1, 3)\n",
    "print(result)"
   ]
  },
  {
   "cell_type": "code",
   "execution_count": 4,
   "metadata": {},
   "outputs": [
    {
     "name": "stdout",
     "output_type": "stream",
     "text": [
      "3\n"
     ]
    }
   ],
   "source": [
    "#1\n",
    "def find_max(first_n, second_n):\n",
    "    '''A function that given two numbers returns the largest of them.'''\n",
    "    result = max(first_n, second_n)\n",
    "    return result\n",
    "\n",
    "maximum = find_max(1, 3)\n",
    "print(maximum)"
   ]
  },
  {
   "cell_type": "code",
   "execution_count": 6,
   "metadata": {},
   "outputs": [
    {
     "name": "stdout",
     "output_type": "stream",
     "text": [
      "3\n"
     ]
    }
   ],
   "source": [
    "#1\n",
    "def find_max(first_n, second_n):\n",
    "    '''A function that given two numbers returns the largest of them.'''\n",
    "    if first_n >= second_n:\n",
    "        return first_n\n",
    "    else:\n",
    "        return second_n\n",
    "\n",
    "result = find_max(1, 3)\n",
    "print(result)"
   ]
  },
  {
   "cell_type": "code",
   "execution_count": 2,
   "metadata": {},
   "outputs": [
    {
     "name": "stdout",
     "output_type": "stream",
     "text": [
      "3\n"
     ]
    }
   ],
   "source": [
    "#1\n",
    "def find_max(first_n, second_n):\n",
    "    '''A function that given two numbers returns the largest of them.'''\n",
    "    return first_n if first_n >= second_n else second_n\n",
    "\n",
    "result = find_max(1, 3)\n",
    "print(result)"
   ]
  },
  {
   "cell_type": "markdown",
   "metadata": {},
   "source": [
    "2. Define a function max_of_three() that takes three numbers as arguments and returns the largest of them."
   ]
  },
  {
   "cell_type": "code",
   "execution_count": 6,
   "metadata": {},
   "outputs": [
    {
     "name": "stdout",
     "output_type": "stream",
     "text": [
      "The largest number is 3\n"
     ]
    }
   ],
   "source": [
    "#2\n",
    "\n",
    "def max_of_three(first_n, second_n, third_n):\n",
    "    if first_n >= second_n:\n",
    "        if first_n >= third_n:\n",
    "            return first_n\n",
    "        else:\n",
    "            return third_n\n",
    "    else:\n",
    "        if second_n >= third_n:\n",
    "            return second_n\n",
    "        else:\n",
    "            return third_n\n",
    "\n",
    "result = max_of_three(1, 2, 3)\n",
    "print('The largest number is', result)"
   ]
  },
  {
   "cell_type": "code",
   "execution_count": 1,
   "metadata": {},
   "outputs": [
    {
     "name": "stdout",
     "output_type": "stream",
     "text": [
      "The largest number is 3\n"
     ]
    }
   ],
   "source": [
    "#2\n",
    "\n",
    "def max_of_three(first_n, second_n, third_n):\n",
    "    if first_n >= second_n and first_n >= third_n:\n",
    "        return first_n\n",
    "    elif second_n >= first_n and second_n >= third_n:\n",
    "        return second_n\n",
    "    else:\n",
    "        return third_n\n",
    "\n",
    "result = max_of_three(1, 2, 3)\n",
    "print('The largest number is', result)"
   ]
  },
  {
   "cell_type": "markdown",
   "metadata": {},
   "source": [
    "3. Define a function that computes the length of a given list or string. (It is true that Python has the len() function built in, but writing it yourself is nevertheless a good exercise.)"
   ]
  },
  {
   "cell_type": "code",
   "execution_count": 8,
   "metadata": {},
   "outputs": [
    {
     "name": "stdout",
     "output_type": "stream",
     "text": [
      "The length of a given list or string is 3\n"
     ]
    }
   ],
   "source": [
    "#3\n",
    "\n",
    "def length(string):\n",
    "    count = 0\n",
    "    for _ in string:\n",
    "        count += 1\n",
    "    return count\n",
    "\n",
    "result = length('foo')\n",
    "# result = length([1, 2])\n",
    "# result = length((1, 2, 3))\n",
    "# result = length(1) TypeError: 'int' object is not iterable\n",
    "print('The length of a given list or string is', result)"
   ]
  },
  {
   "cell_type": "markdown",
   "metadata": {},
   "source": [
    "4. Write a function that takes a character (i.e. a string of length 1) and returns True if it is a vowel, False otherwise."
   ]
  },
  {
   "cell_type": "code",
   "execution_count": 1,
   "metadata": {},
   "outputs": [
    {
     "name": "stdout",
     "output_type": "stream",
     "text": [
      "True\n"
     ]
    }
   ],
   "source": [
    "#4\n",
    "\n",
    "def vowel_check(char):\n",
    "    return char in ['a','e','i','o','u']\n",
    "\n",
    "string = 'a'\n",
    "result = vowel_check(string)\n",
    "print(result)"
   ]
  },
  {
   "cell_type": "markdown",
   "metadata": {},
   "source": [
    "5. Write a function translate() that will translate a text into \"rövarspråket\" (Swedish for \"robber's language\"). That is, double every consonant and place an occurrence of \"o\" in between. For example, translate(\"this is fun\") should return the string \"tothohisos isos fofunon\"."
   ]
  },
  {
   "cell_type": "code",
   "execution_count": 4,
   "metadata": {},
   "outputs": [
    {
     "name": "stdout",
     "output_type": "stream",
     "text": [
      "tothohisos o isos o fofunon\n"
     ]
    }
   ],
   "source": [
    "#5\n",
    "\n",
    "def translate(text):\n",
    "    vowels = ['a','e','i','o','u']\n",
    "\n",
    "    translated_text = ''\n",
    "    for char in text:\n",
    "        if char not in vowels:\n",
    "            translated_text += char + 'o' + char\n",
    "        else:\n",
    "            translated_text += char\n",
    "\n",
    "    return translated_text\n",
    "\n",
    "\n",
    "string = 'this is fun'\n",
    "# tothohisos isos fofunon\n",
    "result = translate(string)\n",
    "print(result)"
   ]
  },
  {
   "cell_type": "markdown",
   "metadata": {},
   "source": [
    "6. Define a function sum() and a function multiply() that sums and multiplies (respectively) all the numbers in a list of numbers. For example, sum([1, 2, 3, 4]) should return 10, and multiply([1, 2, 3, 4]) should return 24."
   ]
  },
  {
   "cell_type": "code",
   "execution_count": 1,
   "metadata": {},
   "outputs": [
    {
     "name": "stdout",
     "output_type": "stream",
     "text": [
      "6\n",
      "6\n"
     ]
    }
   ],
   "source": [
    "#6\n",
    "\n",
    "def sum(numbers):\n",
    "    count_sum = 0\n",
    "    for num in numbers:\n",
    "        count_sum += num\n",
    "    return count_sum\n",
    "\n",
    "def multiply(numbers):\n",
    "    count_mult = 1\n",
    "    for num in numbers:\n",
    "        count_mult *= num\n",
    "    return count_mult\n",
    "\n",
    "\n",
    "numbers_seq = [1, 2, 3]\n",
    "sum_result = sum(numbers_seq)\n",
    "multiply_result = multiply(numbers_seq)\n",
    "print(sum_result)\n",
    "print(multiply_result)"
   ]
  },
  {
   "cell_type": "markdown",
   "metadata": {},
   "source": [
    "7. Define a function reverse() that computes the reversal of a string. For example, reverse(\"I am testing\") should return the string \"gnitset ma I\"."
   ]
  },
  {
   "cell_type": "code",
   "execution_count": 32,
   "metadata": {},
   "outputs": [
    {
     "name": "stdout",
     "output_type": "stream",
     "text": [
      "I am testing\n"
     ]
    }
   ],
   "source": [
    "#7\n",
    "\n",
    "def reverse_func(string):\n",
    "    reversed_string = []\n",
    "    for char in string:\n",
    "        reversed_string.append(char)\n",
    "    # return reversed_string\n",
    "    return ''.join(reversed_string)\n",
    "\n",
    "# def reverse_func(string):\n",
    "#     reversed_string = ''\n",
    "#     for char in string:\n",
    "#         reversed_string += char\n",
    "#     return reversed_string\n",
    "# # может как-нибудь ещё можно перевернуть?\n",
    "\n",
    "input = 'I am testing'\n",
    "reversed_string = reverse_func(input)\n",
    "print(reversed_string)\n"
   ]
  },
  {
   "cell_type": "code",
   "execution_count": 3,
   "metadata": {},
   "outputs": [
    {
     "name": "stdout",
     "output_type": "stream",
     "text": [
      "gnitset ma I\n"
     ]
    }
   ],
   "source": [
    "#7\n",
    "\n",
    "def reverse_func(string):\n",
    "    return string[::-1]\n",
    "\n",
    "input = 'I am testing'\n",
    "reversed_string = reverse_func(input)\n",
    "print(reversed_string)\n"
   ]
  },
  {
   "cell_type": "code",
   "execution_count": 29,
   "metadata": {},
   "outputs": [
    {
     "name": "stdout",
     "output_type": "stream",
     "text": [
      "gnitset ma I\n"
     ]
    }
   ],
   "source": [
    "# 7\n",
    "\n",
    "# list(range(5, 0, -1))\n",
    "# list(range(5, -1, -1))\n",
    "\n",
    "def reverse_func(string):\n",
    "    reversed_string = ''\n",
    "    for i in range(len(string) - 1, -1, -1):\n",
    "        reversed_string += string[i]\n",
    "    return reversed_string\n",
    "\n",
    "input = 'I am testing'\n",
    "reversed_string = reverse_func(input)\n",
    "print(reversed_string)\n"
   ]
  },
  {
   "cell_type": "code",
   "execution_count": 33,
   "metadata": {},
   "outputs": [
    {
     "data": {
      "text/plain": [
       "[0, 2]"
      ]
     },
     "execution_count": 33,
     "metadata": {},
     "output_type": "execute_result"
    }
   ],
   "source": [
    "list(range(0, 4, 2))"
   ]
  },
  {
   "cell_type": "code",
   "execution_count": 34,
   "metadata": {},
   "outputs": [],
   "source": [
    "ss = 'foobar'\n",
    "h, *t = ss\n",
    "# >>> h\n",
    "# 'f'\n",
    "# >>> t\n",
    "# ['o', 'o', 'b', 'a', 'r']\n",
    "*h, t = ss\n",
    "# >>> h\n",
    "# ['f', 'o', 'o', 'b', 'a']\n",
    "# >>> t\n",
    "# 'r'\n"
   ]
  },
  {
   "cell_type": "markdown",
   "metadata": {},
   "source": [
    "8. Define a function is_palindrome() that recognizes palindromes\n",
    "(i.e. words that look the same written backwards).\n",
    "For example, is_palindrome(\"radar\") should return True."
   ]
  },
  {
   "cell_type": "code",
   "execution_count": 13,
   "metadata": {},
   "outputs": [
    {
     "name": "stdout",
     "output_type": "stream",
     "text": [
      "True\n"
     ]
    }
   ],
   "source": [
    "# 8\n",
    "\n",
    "def is_palindrome(string):\n",
    "    reversed_string = ''\n",
    "    for i in range(len(string) - 1, -1, -1):\n",
    "        reversed_string += string[i]\n",
    "    return reversed_string == string\n",
    "    \n",
    "\n",
    "input = 'I am testing'\n",
    "input = 'radar'\n",
    "reversed_string = is_palindrome(input)\n",
    "print(reversed_string)"
   ]
  },
  {
   "cell_type": "code",
   "execution_count": 12,
   "metadata": {},
   "outputs": [
    {
     "name": "stdout",
     "output_type": "stream",
     "text": [
      "False\n"
     ]
    }
   ],
   "source": [
    "# 8\n",
    "\n",
    "def is_palindrome(string):\n",
    "    reversed_string = string[::-1]\n",
    "    return reversed_string == string\n",
    "    \n",
    "\n",
    "input = 'I am testing'\n",
    "# input = 'radar'\n",
    "reversed_string = is_palindrome(input)\n",
    "print(reversed_string)"
   ]
  },
  {
   "cell_type": "code",
   "execution_count": 34,
   "metadata": {},
   "outputs": [
    {
     "name": "stdout",
     "output_type": "stream",
     "text": [
      "True\n"
     ]
    }
   ],
   "source": [
    "# 8\n",
    "# берем строку, сравниваем посимвольно первый с последним и т д, как только нашли расхождение -- говорим False, индексы\n",
    "\n",
    "def is_palindrome(string):\n",
    "    left = 0\n",
    "    # right = string[-1]\n",
    "    right = len(string) - 1\n",
    "\n",
    "    while left < right:\n",
    "        if string[left] != string[right]:\n",
    "            return False\n",
    "        left += 1\n",
    "        right -= 1\n",
    "    return True\n",
    "\n",
    "# input = 'I am testing'\n",
    "input = 'radar'\n",
    "reversed_string = is_palindrome(input)\n",
    "print(reversed_string)\n"
   ]
  },
  {
   "cell_type": "code",
   "execution_count": 31,
   "metadata": {},
   "outputs": [
    {
     "name": "stdout",
     "output_type": "stream",
     "text": [
      "lalalala\n"
     ]
    }
   ],
   "source": [
    "string = 'lala'\n",
    "string1 = 'lala'\n",
    "\n",
    "# right = string + string1\n",
    "string += string1\n",
    "\n",
    "print(string)"
   ]
  },
  {
   "cell_type": "markdown",
   "metadata": {},
   "source": [
    "9. Write a function is_member() that takes a value (i.e. a number, string, etc) x and a list of values a, and returns True if x is a member of a, False otherwise. (Note that this is exactly what the in operator does, but for the sake of the exercise you should pretend Python did not have this operator.)"
   ]
  },
  {
   "cell_type": "code",
   "execution_count": 35,
   "metadata": {},
   "outputs": [
    {
     "name": "stdout",
     "output_type": "stream",
     "text": [
      "True\n"
     ]
    }
   ],
   "source": [
    "# 9\n",
    "\n",
    "def is_member(value, list_a):\n",
    "    result = list_a.count(value)\n",
    "    if result > 0:\n",
    "        return True\n",
    "    return False\n",
    "\n",
    "val, example_list = 1, [1, True, 3]\n",
    "# val, example_list = 5, [True, 3]\n",
    "result = is_member(val, example_list)\n",
    "print(result)"
   ]
  },
  {
   "cell_type": "code",
   "execution_count": 38,
   "metadata": {},
   "outputs": [
    {
     "name": "stdout",
     "output_type": "stream",
     "text": [
      "False\n"
     ]
    }
   ],
   "source": [
    "# 9\n",
    "\n",
    "def is_member(value, list_a):\n",
    "    for i in list_a:\n",
    "        if i == value:\n",
    "            return True\n",
    "    return False\n",
    "\n",
    "# val, example_list = 1, [1, True, 3]\n",
    "val, example_list = 5, [True, 3]\n",
    "result = is_member(val, example_list)\n",
    "print(result)"
   ]
  },
  {
   "cell_type": "code",
   "execution_count": 54,
   "metadata": {},
   "outputs": [
    {
     "name": "stdout",
     "output_type": "stream",
     "text": [
      "False\n"
     ]
    }
   ],
   "source": [
    "# 9\n",
    "\n",
    "def is_member(value, list_a):\n",
    "    def funk(x):\n",
    "        if x == value:\n",
    "            return True\n",
    "        return False\n",
    "    result = bool(list(filter(funk, list_a)))\n",
    "    return result\n",
    "\n",
    "list_a = [1, True, 3]\n",
    "result = filter(is_member, list_a)\n",
    "\n",
    "# val, example_list = 1, [1, True, 3]\n",
    "val, example_list = 5, [True, 3]\n",
    "result = is_member(val, example_list)\n",
    "print(result)"
   ]
  },
  {
   "cell_type": "code",
   "execution_count": 2,
   "metadata": {},
   "outputs": [
    {
     "name": "stdout",
     "output_type": "stream",
     "text": [
      "True\n"
     ]
    }
   ],
   "source": [
    "# 9\n",
    "# переписать задачку с лямбдой\n",
    "\n",
    "# sequence = ['g', 'e', 'e', 'j', 'k', 's', 'p', 'r']\n",
    "# ss = filter(lambda x: x == 'e', sequence)\n",
    "# >>> ss\n",
    "# <filter object at 0x7fe34de7ece0>\n",
    "# list(ss)\n",
    "# ['e', 'e']\n",
    "# ss = filter(lambda x: x == 'eqweqwe', sequence)\n",
    "# ss\n",
    "# <filter object at 0x7fe34dcb99c0>\n",
    "# list(ss)\n",
    "# []\n",
    "# bool(list(ss))\n",
    "# False\n",
    "\n",
    "\n",
    "def is_member(value, list_a):\n",
    "    result = bool(list(filter(lambda x: x == value, list_a)))\n",
    "    return result\n",
    "\n",
    "list_a = [1, True, 3]\n",
    "result = filter(is_member, list_a)\n",
    "\n",
    "val, example_list = 1, [1, True, 3]\n",
    "# val, example_list = 5, [True, 3]\n",
    "result = is_member(val, example_list)\n",
    "print(result)"
   ]
  },
  {
   "cell_type": "code",
   "execution_count": 2,
   "metadata": {},
   "outputs": [
    {
     "ename": "SyntaxError",
     "evalue": "invalid syntax (508909322.py, line 4)",
     "output_type": "error",
     "traceback": [
      "\u001b[0;36m  Cell \u001b[0;32mIn[2], line 4\u001b[0;36m\u001b[0m\n\u001b[0;31m    >>> def s(a, b):\u001b[0m\n\u001b[0m    ^\u001b[0m\n\u001b[0;31mSyntaxError\u001b[0m\u001b[0;31m:\u001b[0m invalid syntax\n"
     ]
    }
   ],
   "source": [
    "# 9\n",
    "# решить задачку, используя partial\n",
    "\n",
    ">>> def s(a, b):\n",
    "...     return a + b\n",
    "...\n",
    ">>> s(1,2)\n",
    "3\n",
    ">>> partial\n",
    "Traceback (most recent call last):\n",
    "  File \"<stdin>\", line 1, in <module>\n",
    "NameError: name 'partial' is not defined\n",
    ">>> from functols import partial\n",
    "Traceback (most recent call last):\n",
    "  File \"<stdin>\", line 1, in <module>\n",
    "ModuleNotFoundError: No module named 'functols'\n",
    ">>> from functools import partial\n",
    ">>> partial\n",
    "<class 'functools.partial'>\n",
    ">>> add100 = partial(s, 100)\n",
    ">>> add100\n",
    "functools.partial(<function s at 0x7fe34dcc4720>, 100)\n",
    ">>> add100(1)\n",
    "101\n",
    ">>> addfixedb = partial(s, b=1000)\n",
    ">>> addfixedb(33)\n",
    "1033\n",
    ">>> addfixedb(33, 44)\n",
    "Traceback (most recent call last):\n",
    "  File \"<stdin>\", line 1, in <module>\n",
    "TypeError: s() got multiple values for argument 'b'\n",
    ">>> def minus(a, b):\n",
    "...     return a - b\n",
    "...\n",
    ">>> fixedb = partial(minus, b=10)\n",
    ">>> fixedb(100)\n",
    "90\n",
    ">>> fixedb(100, 123)\n",
    "Traceback (most recent call last):\n",
    "  File \"<stdin>\", line 1, in <module>\n",
    "TypeError: minus() got multiple values for argument 'b'\n",
    ">>>"
   ]
  },
  {
   "cell_type": "code",
   "execution_count": 5,
   "metadata": {},
   "outputs": [
    {
     "name": "stdout",
     "output_type": "stream",
     "text": [
      "True\n"
     ]
    }
   ],
   "source": [
    "# 9\n",
    "# решить задачку, используя partial\n",
    "\n",
    "from functools import partial\n",
    "\n",
    "def compare_value(value, x):\n",
    "        return x == value\n",
    "\n",
    "def is_member(value, list_a):\n",
    "    partial_v = partial(compare_value, value)\n",
    "    result = bool(list(filter(partial_v, list_a)))\n",
    "    return result\n",
    "\n",
    "\n",
    "list_a = [1, True, 3]\n",
    "result = filter(is_member, list_a)\n",
    "\n",
    "val, example_list = 1, [1, True, 3]\n",
    "# val, example_list = 5, [True, 3]\n",
    "result = is_member(val, example_list)\n",
    "print(result)"
   ]
  },
  {
   "cell_type": "markdown",
   "metadata": {},
   "source": [
    "10. Define a function overlapping() that takes two lists and returns True if they have at least one member in common, False otherwise. You may use your is_member() function, or the in operator, but for the sake of the exercise, you should (also) write it using two nested for-loops."
   ]
  },
  {
   "cell_type": "code",
   "execution_count": 1,
   "metadata": {},
   "outputs": [
    {
     "ename": "SyntaxError",
     "evalue": "invalid syntax (2098159723.py, line 4)",
     "output_type": "error",
     "traceback": [
      "\u001b[0;36m  Cell \u001b[0;32mIn[1], line 4\u001b[0;36m\u001b[0m\n\u001b[0;31m    for i in\u001b[0m\n\u001b[0m             ^\u001b[0m\n\u001b[0;31mSyntaxError\u001b[0m\u001b[0;31m:\u001b[0m invalid syntax\n"
     ]
    }
   ],
   "source": [
    "# 10\n",
    "\n",
    "def is_member(value, list_a):\n",
    "    for i in list_a:\n",
    "        if i == value:\n",
    "            return True\n",
    "    return False"
   ]
  },
  {
   "cell_type": "markdown",
   "metadata": {},
   "source": [
    "11. Define a function generate_n_chars() that takes an integer n and a character c and returns a string, n characters long, consisting only of c:s. For example, generate_n_chars(5,\"x\") should return the string \"xxxxx\". (Python is unusual in that you can actually write an expression 5 * \"x\" that will evaluate to \"xxxxx\". For the sake of the exercise you should ignore that the problem can be solved in this manner.)"
   ]
  },
  {
   "cell_type": "code",
   "execution_count": 13,
   "metadata": {},
   "outputs": [
    {
     "name": "stdout",
     "output_type": "stream",
     "text": [
      "xxxxx\n"
     ]
    }
   ],
   "source": [
    "# 11\n",
    "\n",
    "def generate_n_chars(n, c):\n",
    "    result = ''\n",
    "    for _ in range(n):\n",
    "        result += c\n",
    "    return result\n",
    "\n",
    "\n",
    "result = generate_n_chars(5, 'x')\n",
    "print(result)"
   ]
  },
  {
   "cell_type": "markdown",
   "metadata": {},
   "source": [
    "12. Define a procedure histogram() that takes a list of integers and prints a histogram to the screen. For example, histogram([4, 9, 7]) should print the following:\n",
    "\n",
    "****\n",
    "*********\n",
    "*******"
   ]
  },
  {
   "cell_type": "code",
   "execution_count": 6,
   "metadata": {},
   "outputs": [
    {
     "name": "stdout",
     "output_type": "stream",
     "text": [
      "****\n",
      "*********\n",
      "*******\n"
     ]
    }
   ],
   "source": [
    "# 12\n",
    "\n",
    "def histogram(integers):\n",
    "    for num in integers:\n",
    "        print('*' * num)\n",
    "\n",
    "histogram([4, 9, 7])"
   ]
  },
  {
   "cell_type": "markdown",
   "metadata": {},
   "source": [
    "13. The function max() from exercise 1) and the function max_of_three() from exercise 2) will only work for two and three numbers, respectively. But suppose we have a much larger number of numbers, or suppose we cannot tell in advance how many they are? Write a function max_in_list() that takes a list of numbers and returns the largest one."
   ]
  },
  {
   "cell_type": "code",
   "execution_count": 1,
   "metadata": {},
   "outputs": [
    {
     "name": "stdout",
     "output_type": "stream",
     "text": [
      "40\n"
     ]
    }
   ],
   "source": [
    "# 13\n",
    "\n",
    "def max_in_list(numbers):\n",
    "    if not numbers:\n",
    "        return None\n",
    "    max_number = numbers[0]\n",
    "    for number in numbers[1:]:\n",
    "        if number > max_number:\n",
    "            max_number = number\n",
    "    return max_number\n",
    "\n",
    "\n",
    "numbers = [1, 4, 2, 33, 40, 6]\n",
    "print(max_in_list(numbers))"
   ]
  },
  {
   "cell_type": "markdown",
   "metadata": {},
   "source": [
    "14. Write a program that maps a list of words into a list of integers representing the lengths of the correponding words."
   ]
  },
  {
   "cell_type": "code",
   "execution_count": 4,
   "metadata": {},
   "outputs": [
    {
     "name": "stdout",
     "output_type": "stream",
     "text": [
      "[3, 6, 4]\n"
     ]
    }
   ],
   "source": [
    "# 14\n",
    "\n",
    "def words_to_int(words):\n",
    "    lengths = []\n",
    "    for word in words:\n",
    "        lengths.append(len(word))\n",
    "    return lengths\n",
    "\n",
    "\n",
    "\n",
    "words = ['foo', 'barbar', 'buzz']\n",
    "\n",
    "print(words_to_int(words))\n",
    "# тут у нас нан, потому что нет ретёрна"
   ]
  },
  {
   "cell_type": "code",
   "execution_count": 6,
   "metadata": {},
   "outputs": [
    {
     "name": "stdout",
     "output_type": "stream",
     "text": [
      "[3, 3, 4]\n"
     ]
    }
   ],
   "source": [
    "# 14\n",
    "\n",
    "def words_to_int(words):\n",
    "    return [len(word) for word in words]\n",
    "\n",
    "\n",
    "words = ['foo', 'bar', 'buzz']\n",
    "\n",
    "lengths = words_to_int(words)\n",
    "print(lengths)"
   ]
  },
  {
   "cell_type": "markdown",
   "metadata": {},
   "source": [
    "15. Write a function find_longest_word() that takes a list of words and returns the length of the longest one."
   ]
  },
  {
   "cell_type": "code",
   "execution_count": 1,
   "metadata": {},
   "outputs": [
    {
     "name": "stdout",
     "output_type": "stream",
     "text": [
      "8\n"
     ]
    }
   ],
   "source": [
    "# 15\n",
    "\n",
    "def find_longest_word(words):\n",
    "    length = [len(word) for word in words]\n",
    "    max_length = length[0]\n",
    "    for number in length:\n",
    "        if number > max_length:\n",
    "            max_length = number\n",
    "    return max_length\n",
    "\n",
    "\n",
    "words = ['foo', 'barr', 'buzzbuzz']\n",
    "\n",
    "result = find_longest_word(words)\n",
    "print(result)"
   ]
  },
  {
   "cell_type": "code",
   "execution_count": 1,
   "metadata": {},
   "outputs": [
    {
     "name": "stdout",
     "output_type": "stream",
     "text": [
      "8\n"
     ]
    }
   ],
   "source": [
    "# 15\n",
    "\n",
    "def find_longest_word(words):\n",
    "    longest_length = 0\n",
    "    for word in words:\n",
    "        if len(word) > longest_length:\n",
    "            longest_length = len(word)\n",
    "    return longest_length\n",
    "\n",
    "words = ['foo', 'barr', 'buzzbuzz']\n",
    "\n",
    "result = find_longest_word(words)\n",
    "print(result)"
   ]
  },
  {
   "cell_type": "code",
   "execution_count": 17,
   "metadata": {},
   "outputs": [
    {
     "name": "stdout",
     "output_type": "stream",
     "text": [
      "8\n"
     ]
    }
   ],
   "source": [
    "# 15\n",
    "\n",
    "def find_longest_word(words):\n",
    "    first = [len(word) for word in words]\n",
    "    second = max(first)\n",
    "    return second\n",
    "\n",
    "words = ['foo', 'barr', 'buzzbuzz']\n",
    "\n",
    "result = find_longest_word(words)\n",
    "print(result)"
   ]
  },
  {
   "cell_type": "code",
   "execution_count": null,
   "metadata": {},
   "outputs": [],
   "source": [
    "# 15\n",
    "\n",
    "def find_longest_word(words):\n",
    "    return max(list(map(len, words)))"
   ]
  },
  {
   "cell_type": "code",
   "execution_count": 12,
   "metadata": {},
   "outputs": [
    {
     "name": "stdout",
     "output_type": "stream",
     "text": [
      "8\n"
     ]
    }
   ],
   "source": [
    "# 15\n",
    "\n",
    "def find_longest_word(words):\n",
    "    return max([len(word) for word in words])\n",
    "\n",
    "words = ['foo', 'barr', 'buzzbuzz']\n",
    "\n",
    "result = find_longest_word(words)\n",
    "print(result)"
   ]
  },
  {
   "cell_type": "code",
   "execution_count": 15,
   "metadata": {},
   "outputs": [
    {
     "name": "stdout",
     "output_type": "stream",
     "text": [
      "8\n"
     ]
    }
   ],
   "source": [
    "# 15\n",
    "\n",
    "def find_longest_word(words):\n",
    "    longest = max(words, key=len)\n",
    "    return len(longest)\n",
    "\n",
    "words = ['foo', 'barr', 'buzzbuzz']\n",
    "\n",
    "result = find_longest_word(words)\n",
    "print(result)"
   ]
  },
  {
   "cell_type": "code",
   "execution_count": 16,
   "metadata": {},
   "outputs": [
    {
     "name": "stdout",
     "output_type": "stream",
     "text": [
      "8\n"
     ]
    }
   ],
   "source": [
    "# 15\n",
    "\n",
    "def find_longest_word(words):\n",
    "    return len(max(words, key=len))\n",
    "\n",
    "words = ['foo', 'barr', 'buzzbuzz']\n",
    "\n",
    "result = find_longest_word(words)\n",
    "print(result)"
   ]
  },
  {
   "cell_type": "markdown",
   "metadata": {},
   "source": [
    "16. Write a function filter_long_words() that takes a list of words and an integer n and returns the list of words that are longer than n."
   ]
  },
  {
   "cell_type": "code",
   "execution_count": 19,
   "metadata": {},
   "outputs": [],
   "source": [
    "# 16\n",
    "\n",
    "def filter_long_words(words_list, n):\n",
    "    filtered_words_list = []\n",
    "    for word in words_list:\n",
    "        if len(word) > n:\n",
    "            filtered_words_list.append(word)\n",
    "    return filtered_words_list\n",
    "\n",
    "\n",
    "words_list = ['apple', 'banana', 'cat', 'lol']\n",
    "n = 3\n",
    "\n",
    "result = filter_long_words(words_list, n)\n",
    "\n",
    "expected_result = ['apple', 'banana']\n",
    "assert result == expected_result"
   ]
  },
  {
   "cell_type": "code",
   "execution_count": 20,
   "metadata": {},
   "outputs": [
    {
     "name": "stdout",
     "output_type": "stream",
     "text": [
      "['apple', 'banana']\n"
     ]
    }
   ],
   "source": [
    "# 16\n",
    "\n",
    "def filter_long_words(words_list, n):\n",
    "    return [word for word in words_list if len(word) > n]\n",
    "\n",
    "\n",
    "words_list = ['apple', 'banana', 'cat', 'lol']\n",
    "n = 3\n",
    "\n",
    "result = filter_long_words(words_list, n)\n",
    "print(result)"
   ]
  },
  {
   "cell_type": "markdown",
   "metadata": {},
   "source": [
    "17. Write a version of a palindrome recognizer that also accepts phrase palindromes such as \"Go hang a salami I'm a lasagna hog.\", \"Was it a rat I saw?\", \"Step on no pets\", \"Sit on a potato pan, Otis\", \"Lisa Bonet ate no basil\", \"Satan, oscillate my metallic sonatas\", \"I roamed under it as a tired nude Maori\", \"Rise to vote sir\", or the exclamation \"Dammit, I'm mad!\". Note that punctuation, capitalization, and spacing are usually ignored."
   ]
  },
  {
   "cell_type": "code",
   "execution_count": 1,
   "metadata": {},
   "outputs": [
    {
     "name": "stdout",
     "output_type": "stream",
     "text": [
      "True\n"
     ]
    }
   ],
   "source": [
    "# 17\n",
    "\n",
    "def is_palindrome(palindrome):\n",
    "    cleaned_phrase = ''\n",
    "    for char in palindrome:\n",
    "        if char.isalpha():\n",
    "            cleaned_phrase += char.lower()\n",
    "    reversed_phrase = cleaned_phrase[::-1]\n",
    "    return cleaned_phrase == reversed_phrase\n",
    "\n",
    "\n",
    "\n",
    "palindrome = \"Go hang a salami I'm a lasagna hog.\"\n",
    "result = is_palindrome(palindrome)\n",
    "print(result)\n",
    "\n",
    "expected_result = True\n",
    "assert result == expected_result\n"
   ]
  },
  {
   "cell_type": "code",
   "execution_count": 3,
   "metadata": {},
   "outputs": [
    {
     "name": "stdout",
     "output_type": "stream",
     "text": [
      "True\n"
     ]
    }
   ],
   "source": [
    "# 17\n",
    "\n",
    "def is_palindrome(palindrome):\n",
    "    cleaned_phrase = ''.join(char.lower() for char in palindrome if char.isalpha())\n",
    "    reversed_phrase = cleaned_phrase[::-1]\n",
    "    return cleaned_phrase == reversed_phrase\n",
    "\n",
    "\n",
    "\n",
    "palindrome = \"Go hang a salami I'm a lasagna hog.\"\n",
    "result = is_palindrome(palindrome)\n",
    "print(result)\n",
    "\n",
    "expected_result = True\n",
    "assert result == expected_result\n",
    "\n",
    "# list comprehension"
   ]
  },
  {
   "cell_type": "markdown",
   "metadata": {},
   "source": [
    "18. A pangram is a sentence that contains all the letters of the English alphabet at least once, for example: The quick brown fox jumps over the lazy dog. Your task here is to write a function to check a sentence to see if it is a pangram or not."
   ]
  },
  {
   "cell_type": "code",
   "execution_count": 11,
   "metadata": {},
   "outputs": [
    {
     "name": "stdout",
     "output_type": "stream",
     "text": [
      "True\n"
     ]
    }
   ],
   "source": [
    "# 18\n",
    "\n",
    "# буквы алфавита и буквы в предложении – сравнить множества\n",
    "\n",
    "def is_pangram(sentence):\n",
    "    alphabet = set('abcdefghijklmnopqrstuvwxyz')\n",
    "    sentence_lower = sentence.lower()\n",
    "    sentence_without_spaces = sentence_lower.replace(' ', '')\n",
    "    letters_in_sentence = set(sentence_without_spaces)\n",
    "    return alphabet.issubset(letters_in_sentence)\n",
    "\n",
    "\n",
    "\n",
    "sentence = 'The quick brown fox jumps over the lazy dog'\n",
    "result = is_pangram(sentence)\n",
    "print(result)\n",
    "\n",
    "expected_result = True\n",
    "assert result == expected_result"
   ]
  },
  {
   "cell_type": "code",
   "execution_count": 14,
   "metadata": {},
   "outputs": [
    {
     "name": "stdout",
     "output_type": "stream",
     "text": [
      "True\n"
     ]
    }
   ],
   "source": [
    "# 18\n",
    "\n",
    "def is_pangram(sentence):\n",
    "    return set('abcdefghijklmnopqrstuvwxyz').issubset(set(sentence.lower().replace(' ', '')))\n",
    "\n",
    "\n",
    "sentence = 'The quick brown fox jumps over the lazy dog'\n",
    "result = is_pangram(sentence)\n",
    "print(result)\n",
    "\n",
    "expected_result = True\n",
    "assert result == expected_result"
   ]
  },
  {
   "cell_type": "markdown",
   "metadata": {},
   "source": [
    "19. \"99 Bottles of Beer\" is a traditional song in the United States and Canada. It is popular to sing on long trips, as it has a very repetitive format which is easy to memorize, and can take a long time to sing. The song's simple lyrics are as follows:\n",
    "\n",
    "99 bottles of beer on the wall, 99 bottles of beer.\n",
    "Take one down, pass it around, 98 bottles of beer on the wall.\n",
    "The same verse is repeated, each time with one fewer bottle. The song is completed when the singer or singers reach zero.\n",
    "\n",
    "Your task here is write a Python program capable of generating all the verses of the song."
   ]
  },
  {
   "cell_type": "code",
   "execution_count": null,
   "metadata": {},
   "outputs": [],
   "source": [
    "# 19\n",
    "\n"
   ]
  }
 ],
 "metadata": {
  "kernelspec": {
   "display_name": "Python 3",
   "language": "python",
   "name": "python3"
  },
  "language_info": {
   "codemirror_mode": {
    "name": "ipython",
    "version": 3
   },
   "file_extension": ".py",
   "mimetype": "text/x-python",
   "name": "python",
   "nbconvert_exporter": "python",
   "pygments_lexer": "ipython3",
   "version": "3.11.6"
  }
 },
 "nbformat": 4,
 "nbformat_minor": 2
}
