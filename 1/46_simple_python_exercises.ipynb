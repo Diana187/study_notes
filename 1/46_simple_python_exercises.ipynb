{
 "cells": [
  {
   "cell_type": "markdown",
   "metadata": {},
   "source": []
  },
  {
   "cell_type": "markdown",
   "metadata": {},
   "source": [
    "1. Define a function max() that takes two numbers as arguments and returns the largest of them. Use the if-then-else construct available in Python. (It is true that Python has the max() function built in, but writing it yourself is nevertheless a good exercise.)"
   ]
  },
  {
   "cell_type": "code",
   "execution_count": 6,
   "metadata": {},
   "outputs": [
    {
     "name": "stdout",
     "output_type": "stream",
     "text": [
      "3\n"
     ]
    }
   ],
   "source": [
    "#1\n",
    "def find_max(first_n, second_n):\n",
    "    '''A function that given two numbers returns the largest of them.'''\n",
    "    return max(first_n, second_n)\n",
    "\n",
    "result = find_max(1, 3)\n",
    "print(result)"
   ]
  },
  {
   "cell_type": "code",
   "execution_count": 4,
   "metadata": {},
   "outputs": [
    {
     "name": "stdout",
     "output_type": "stream",
     "text": [
      "3\n"
     ]
    }
   ],
   "source": [
    "#1\n",
    "def find_max(first_n, second_n):\n",
    "    '''A function that given two numbers returns the largest of them.'''\n",
    "    result = max(first_n, second_n)\n",
    "    return result\n",
    "\n",
    "maximum = find_max(1, 3)\n",
    "print(maximum)"
   ]
  },
  {
   "cell_type": "code",
   "execution_count": 6,
   "metadata": {},
   "outputs": [
    {
     "name": "stdout",
     "output_type": "stream",
     "text": [
      "3\n"
     ]
    }
   ],
   "source": [
    "#1\n",
    "def find_max(first_n, second_n):\n",
    "    '''A function that given two numbers returns the largest of them.'''\n",
    "    if first_n >= second_n:\n",
    "        return first_n\n",
    "    else:\n",
    "        return second_n\n",
    "\n",
    "result = find_max(1, 3)\n",
    "print(result)"
   ]
  },
  {
   "cell_type": "code",
   "execution_count": 2,
   "metadata": {},
   "outputs": [
    {
     "name": "stdout",
     "output_type": "stream",
     "text": [
      "3\n"
     ]
    }
   ],
   "source": [
    "#1\n",
    "def find_max(first_n, second_n):\n",
    "    '''A function that given two numbers returns the largest of them.'''\n",
    "    return first_n if first_n >= second_n else second_n\n",
    "\n",
    "result = find_max(1, 3)\n",
    "print(result)"
   ]
  },
  {
   "cell_type": "markdown",
   "metadata": {},
   "source": [
    "2. Define a function max_of_three() that takes three numbers as arguments and returns the largest of them."
   ]
  },
  {
   "cell_type": "code",
   "execution_count": 6,
   "metadata": {},
   "outputs": [
    {
     "name": "stdout",
     "output_type": "stream",
     "text": [
      "The largest number is 3\n"
     ]
    }
   ],
   "source": [
    "#2\n",
    "\n",
    "def max_of_three(first_n, second_n, third_n):\n",
    "    if first_n >= second_n:\n",
    "        if first_n >= third_n:\n",
    "            return first_n\n",
    "        else:\n",
    "            return third_n\n",
    "    else:\n",
    "        if second_n >= third_n:\n",
    "            return second_n\n",
    "        else:\n",
    "            return third_n\n",
    "\n",
    "result = max_of_three(1, 2, 3)\n",
    "print('The largest number is', result)"
   ]
  },
  {
   "cell_type": "code",
   "execution_count": 1,
   "metadata": {},
   "outputs": [
    {
     "name": "stdout",
     "output_type": "stream",
     "text": [
      "The largest number is 3\n"
     ]
    }
   ],
   "source": [
    "#2\n",
    "\n",
    "def max_of_three(first_n, second_n, third_n):\n",
    "    if first_n >= second_n and first_n >= third_n:\n",
    "        return first_n\n",
    "    elif second_n >= first_n and second_n >= third_n:\n",
    "        return second_n\n",
    "    else:\n",
    "        return third_n\n",
    "\n",
    "result = max_of_three(1, 2, 3)\n",
    "print('The largest number is', result)"
   ]
  },
  {
   "cell_type": "markdown",
   "metadata": {},
   "source": [
    "3. Define a function that computes the length of a given list or string. (It is true that Python has the len() function built in, but writing it yourself is nevertheless a good exercise.)"
   ]
  },
  {
   "cell_type": "code",
   "execution_count": 8,
   "metadata": {},
   "outputs": [
    {
     "name": "stdout",
     "output_type": "stream",
     "text": [
      "The length of a given list or string is 3\n"
     ]
    }
   ],
   "source": [
    "#3\n",
    "\n",
    "def length(string):\n",
    "    count = 0\n",
    "    for _ in string:\n",
    "        count += 1\n",
    "    return count\n",
    "\n",
    "result = length('foo')\n",
    "# result = length([1, 2])\n",
    "# result = length((1, 2, 3))\n",
    "# result = length(1) TypeError: 'int' object is not iterable\n",
    "print('The length of a given list or string is', result)"
   ]
  },
  {
   "cell_type": "markdown",
   "metadata": {},
   "source": [
    "4. Write a function that takes a character (i.e. a string of length 1) and returns True if it is a vowel, False otherwise."
   ]
  },
  {
   "cell_type": "code",
   "execution_count": 1,
   "metadata": {},
   "outputs": [
    {
     "name": "stdout",
     "output_type": "stream",
     "text": [
      "True\n"
     ]
    }
   ],
   "source": [
    "#4\n",
    "\n",
    "def vowel_check(char):\n",
    "    return char in ['a','e','i','o','u']\n",
    "\n",
    "string = 'a'\n",
    "result = vowel_check(string)\n",
    "print(result)"
   ]
  },
  {
   "cell_type": "markdown",
   "metadata": {},
   "source": [
    "5. Write a function translate() that will translate a text into \"rövarspråket\" (Swedish for \"robber's language\"). That is, double every consonant and place an occurrence of \"o\" in between. For example, translate(\"this is fun\") should return the string \"tothohisos isos fofunon\"."
   ]
  },
  {
   "cell_type": "code",
   "execution_count": 4,
   "metadata": {},
   "outputs": [
    {
     "name": "stdout",
     "output_type": "stream",
     "text": [
      "tothohisos o isos o fofunon\n"
     ]
    }
   ],
   "source": [
    "#5\n",
    "\n",
    "def translate(text):\n",
    "    vowels = ['a','e','i','o','u']\n",
    "\n",
    "    translated_text = ''\n",
    "    for char in text:\n",
    "        if char not in vowels:\n",
    "            translated_text += char + 'o' + char\n",
    "        else:\n",
    "            translated_text += char\n",
    "\n",
    "    return translated_text\n",
    "\n",
    "\n",
    "string = 'this is fun'\n",
    "# tothohisos isos fofunon\n",
    "result = translate(string)\n",
    "print(result)"
   ]
  },
  {
   "cell_type": "markdown",
   "metadata": {},
   "source": [
    "6. Define a function sum() and a function multiply() that sums and multiplies (respectively) all the numbers in a list of numbers. For example, sum([1, 2, 3, 4]) should return 10, and multiply([1, 2, 3, 4]) should return 24."
   ]
  },
  {
   "cell_type": "code",
   "execution_count": 1,
   "metadata": {},
   "outputs": [
    {
     "name": "stdout",
     "output_type": "stream",
     "text": [
      "6\n",
      "6\n"
     ]
    }
   ],
   "source": [
    "#6\n",
    "\n",
    "def sum(numbers):\n",
    "    count_sum = 0\n",
    "    for num in numbers:\n",
    "        count_sum += num\n",
    "    return count_sum\n",
    "\n",
    "def multiply(numbers):\n",
    "    count_mult = 1\n",
    "    for num in numbers:\n",
    "        count_mult *= num\n",
    "    return count_mult\n",
    "\n",
    "\n",
    "numbers_seq = [1, 2, 3]\n",
    "sum_result = sum(numbers_seq)\n",
    "multiply_result = multiply(numbers_seq)\n",
    "print(sum_result)\n",
    "print(multiply_result)"
   ]
  },
  {
   "cell_type": "markdown",
   "metadata": {},
   "source": [
    "7. Define a function reverse() that computes the reversal of a string. For example, reverse(\"I am testing\") should return the string \"gnitset ma I\"."
   ]
  },
  {
   "cell_type": "code",
   "execution_count": 32,
   "metadata": {},
   "outputs": [
    {
     "name": "stdout",
     "output_type": "stream",
     "text": [
      "I am testing\n"
     ]
    }
   ],
   "source": [
    "#7\n",
    "\n",
    "def reverse_func(string):\n",
    "    reversed_string = []\n",
    "    for char in string:\n",
    "        reversed_string.append(char)\n",
    "    # return reversed_string\n",
    "    return ''.join(reversed_string)\n",
    "\n",
    "# def reverse_func(string):\n",
    "#     reversed_string = ''\n",
    "#     for char in string:\n",
    "#         reversed_string += char\n",
    "#     return reversed_string\n",
    "# # может как-нибудь ещё можно перевернуть?\n",
    "\n",
    "input = 'I am testing'\n",
    "reversed_string = reverse_func(input)\n",
    "print(reversed_string)\n"
   ]
  },
  {
   "cell_type": "code",
   "execution_count": 3,
   "metadata": {},
   "outputs": [
    {
     "name": "stdout",
     "output_type": "stream",
     "text": [
      "gnitset ma I\n"
     ]
    }
   ],
   "source": [
    "#7\n",
    "\n",
    "def reverse_func(string):\n",
    "    return string[::-1]\n",
    "\n",
    "input = 'I am testing'\n",
    "reversed_string = reverse_func(input)\n",
    "print(reversed_string)\n"
   ]
  },
  {
   "cell_type": "code",
   "execution_count": 29,
   "metadata": {},
   "outputs": [
    {
     "name": "stdout",
     "output_type": "stream",
     "text": [
      "gnitset ma I\n"
     ]
    }
   ],
   "source": [
    "# 7\n",
    "\n",
    "# list(range(5, 0, -1))\n",
    "# list(range(5, -1, -1))\n",
    "\n",
    "def reverse_func(string):\n",
    "    reversed_string = ''\n",
    "    for i in range(len(string) - 1, -1, -1):\n",
    "        reversed_string += string[i]\n",
    "    return reversed_string\n",
    "\n",
    "input = 'I am testing'\n",
    "reversed_string = reverse_func(input)\n",
    "print(reversed_string)\n"
   ]
  },
  {
   "cell_type": "code",
   "execution_count": 33,
   "metadata": {},
   "outputs": [
    {
     "data": {
      "text/plain": [
       "[0, 2]"
      ]
     },
     "execution_count": 33,
     "metadata": {},
     "output_type": "execute_result"
    }
   ],
   "source": [
    "list(range(0, 4, 2))"
   ]
  },
  {
   "cell_type": "code",
   "execution_count": 34,
   "metadata": {},
   "outputs": [],
   "source": [
    "ss = 'foobar'\n",
    "h, *t = ss\n",
    "# >>> h\n",
    "# 'f'\n",
    "# >>> t\n",
    "# ['o', 'o', 'b', 'a', 'r']\n",
    "*h, t = ss\n",
    "# >>> h\n",
    "# ['f', 'o', 'o', 'b', 'a']\n",
    "# >>> t\n",
    "# 'r'\n"
   ]
  },
  {
   "cell_type": "markdown",
   "metadata": {},
   "source": [
    "8. Define a function is_palindrome() that recognizes palindromes\n",
    "(i.e. words that look the same written backwards).\n",
    "For example, is_palindrome(\"radar\") should return True."
   ]
  },
  {
   "cell_type": "code",
   "execution_count": 17,
   "metadata": {},
   "outputs": [
    {
     "name": "stdout",
     "output_type": "stream",
     "text": [
      "True\n"
     ]
    }
   ],
   "source": [
    "# 8\n",
    "\n",
    "def is_palindrome(string):\n",
    "    reversed_string = ''\n",
    "    for i in range(len(string) - 1, -1, -1):\n",
    "        reversed_string += string[i]\n",
    "    return reversed_string == string\n",
    "    \n",
    "\n",
    "input = 'I am testing'\n",
    "# input = 'radar'\n",
    "reversed_string = is_palindrome(input)\n",
    "print(reversed_string)"
   ]
  },
  {
   "cell_type": "markdown",
   "metadata": {},
   "source": []
  }
 ],
 "metadata": {
  "kernelspec": {
   "display_name": "Python 3",
   "language": "python",
   "name": "python3"
  },
  "language_info": {
   "codemirror_mode": {
    "name": "ipython",
    "version": 3
   },
   "file_extension": ".py",
   "mimetype": "text/x-python",
   "name": "python",
   "nbconvert_exporter": "python",
   "pygments_lexer": "ipython3",
   "version": "3.11.6"
  }
 },
 "nbformat": 4,
 "nbformat_minor": 2
}
